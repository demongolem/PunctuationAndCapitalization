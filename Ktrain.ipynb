{
  "nbformat": 4,
  "nbformat_minor": 0,
  "metadata": {
    "colab": {
      "name": "Ktrain.ipynb",
      "provenance": [],
      "collapsed_sections": [],
      "toc_visible": true
    },
    "kernelspec": {
      "name": "python3",
      "display_name": "Python 3"
    }
  },
  "cells": [
    {
      "cell_type": "code",
      "metadata": {
        "id": "SHkg9cvW0can",
        "outputId": "5c2a03cf-9f51-4be5-b947-f5038230a258",
        "colab": {
          "base_uri": "https://localhost:8080/"
        }
      },
      "source": [
        "import os\n",
        "import pandas as pd\n",
        "from zipfile import ZipFile\n",
        "\n",
        "file_name = 'datasets.zip'\n",
        "\n",
        "with ZipFile(file_name, 'r') as zip:\n",
        "  zip.extractall()\n",
        "  print('Done')\n",
        "\n",
        "ENTERTAINMENT_DIR = os.path.join('.', 'datasets/Newswire/entertainment/bodies')\n",
        "INTERNATIONAL_DIR = os.path.join('.', 'datasets/Newswire/international/bodies')\n",
        "NATIONAL_DIR = os.path.join('.', 'datasets/Newswire/national/bodies')\n",
        "POLITICS_DIR = os.path.join('.', 'datasets/Newswire/politics/bodies')\n",
        "SPORTS_DIR = os.path.join('.', 'datasets/Newswire/sports/bodies')\n",
        "\n",
        "def read_into_pandas():\n",
        "    text_list = []\n",
        "    \n",
        "    for f in os.listdir(ENTERTAINMENT_DIR):\n",
        "        with open(os.path.join(ENTERTAINMENT_DIR, f), 'r', encoding='utf-8') as fs:\n",
        "            text_list.append({'id': f[0:-4], 'text': fs.read(), 'category':'ENTERTAINMENT'})\n",
        "\n",
        "    for f in os.listdir(INTERNATIONAL_DIR):\n",
        "        with open(os.path.join(INTERNATIONAL_DIR, f), 'r', encoding='utf-8') as fs:\n",
        "            text_list.append({'id': f[0:-4], 'text': fs.read(), 'category':'INTERNATIONAL'})\n",
        "\n",
        "    for f in os.listdir(NATIONAL_DIR):\n",
        "        with open(os.path.join(NATIONAL_DIR, f), 'r', encoding='utf-8') as fs:\n",
        "            text_list.append({'id': f[0:-4], 'text': fs.read(), 'category':'NATIONAL'})\n",
        "    \n",
        "    for f in os.listdir(POLITICS_DIR):\n",
        "        with open(os.path.join(POLITICS_DIR, f), 'r', encoding='utf-8') as fs:\n",
        "            text_list.append({'id': f[0:-4], 'text': fs.read(), 'category':'POLITICS'})\n",
        "\n",
        "    for f in os.listdir(SPORTS_DIR):\n",
        "        with open(os.path.join(SPORTS_DIR, f), 'r', encoding='utf-8') as fs:\n",
        "            text_list.append({'id': f[0:-4], 'text': fs.read(), 'category':'SPORTS'})\n",
        "\n",
        "    return pd.DataFrame(text_list, columns=['id', 'text', 'category'])\n",
        "\n",
        "df = read_into_pandas()\n",
        "print(df.head())\n",
        "print(df.columns)"
      ],
      "execution_count": 15,
      "outputs": [
        {
          "output_type": "stream",
          "text": [
            "Done\n",
            "                                 id  ...       category\n",
            "0  DK4I1HTWLTUOHQM3ZMINUWLFJBX9Q7IW  ...  ENTERTAINMENT\n",
            "1  CPNWH5LCKX6LX35PIBE28VDBRYXJFSVP  ...  ENTERTAINMENT\n",
            "2  UK13NZT670QBHRTNWLLYG6KD5VVIOVAP  ...  ENTERTAINMENT\n",
            "3  O8NTVAEGRCH6DJUPZ08WYABUMBUJV4SG  ...  ENTERTAINMENT\n",
            "4  31C7ROE8HIKYAWM3ZBSA5KERNQWBINEO  ...  ENTERTAINMENT\n",
            "\n",
            "[5 rows x 3 columns]\n",
            "Index(['id', 'text', 'category'], dtype='object')\n"
          ],
          "name": "stdout"
        }
      ]
    },
    {
      "cell_type": "code",
      "metadata": {
        "id": "GrfLlQ-l05dq"
      },
      "source": [
        "from sklearn.preprocessing import LabelEncoder\n",
        "\n",
        "def replace_column_with_label_representation(df, cname, new_cname, le=None):\n",
        "    if not le:\n",
        "        le = LabelEncoder()\n",
        "        df2 = pd.DataFrame(le.fit_transform(df[cname]), columns=[new_cname])\n",
        "    else:\n",
        "        df2 = pd.DataFrame(le.transform(df[cname]), columns=[new_cname])\n",
        "\n",
        "    combined_df = pd.concat([df, df2], axis=1)\n",
        "    del combined_df[cname]\n",
        "    \n",
        "    return (le, combined_df)"
      ],
      "execution_count": 16,
      "outputs": []
    },
    {
      "cell_type": "code",
      "metadata": {
        "id": "xwwtZuAV68hh",
        "outputId": "f14a6fe7-3aa0-4b55-f15a-028e145d0938",
        "colab": {
          "base_uri": "https://localhost:8080/"
        }
      },
      "source": [
        "!pip install ktrain\n",
        "import ktrain\n",
        "from ktrain import text\n",
        "\n",
        "from sklearn.model_selection import train_test_split"
      ],
      "execution_count": 17,
      "outputs": [
        {
          "output_type": "stream",
          "text": [
            "Requirement already satisfied: ktrain in /usr/local/lib/python3.6/dist-packages (0.25.0)\n",
            "Requirement already satisfied: joblib in /usr/local/lib/python3.6/dist-packages (from ktrain) (0.17.0)\n",
            "Requirement already satisfied: cchardet in /usr/local/lib/python3.6/dist-packages (from ktrain) (2.1.7)\n",
            "Requirement already satisfied: ipython in /usr/local/lib/python3.6/dist-packages (from ktrain) (5.5.0)\n",
            "Requirement already satisfied: transformers>=3.1.0 in /usr/local/lib/python3.6/dist-packages (from ktrain) (3.5.0)\n",
            "Requirement already satisfied: seqeval==0.0.19 in /usr/local/lib/python3.6/dist-packages (from ktrain) (0.0.19)\n",
            "Requirement already satisfied: keras-bert>=0.86.0 in /usr/local/lib/python3.6/dist-packages (from ktrain) (0.86.0)\n",
            "Requirement already satisfied: networkx>=2.3 in /usr/local/lib/python3.6/dist-packages (from ktrain) (2.5)\n",
            "Requirement already satisfied: scikit-learn>=0.21.3 in /usr/local/lib/python3.6/dist-packages (from ktrain) (0.22.2.post1)\n",
            "Requirement already satisfied: matplotlib>=3.0.0 in /usr/local/lib/python3.6/dist-packages (from ktrain) (3.2.2)\n",
            "Requirement already satisfied: jieba in /usr/local/lib/python3.6/dist-packages (from ktrain) (0.42.1)\n",
            "Requirement already satisfied: packaging in /usr/local/lib/python3.6/dist-packages (from ktrain) (20.4)\n",
            "Requirement already satisfied: syntok in /usr/local/lib/python3.6/dist-packages (from ktrain) (1.3.1)\n",
            "Requirement already satisfied: fastprogress>=0.1.21 in /usr/local/lib/python3.6/dist-packages (from ktrain) (1.0.0)\n",
            "Requirement already satisfied: langdetect in /usr/local/lib/python3.6/dist-packages (from ktrain) (1.0.8)\n",
            "Requirement already satisfied: bokeh in /usr/local/lib/python3.6/dist-packages (from ktrain) (2.1.1)\n",
            "Requirement already satisfied: requests in /usr/local/lib/python3.6/dist-packages (from ktrain) (2.23.0)\n",
            "Requirement already satisfied: whoosh in /usr/local/lib/python3.6/dist-packages (from ktrain) (2.7.4)\n",
            "Requirement already satisfied: pandas>=1.0.1 in /usr/local/lib/python3.6/dist-packages (from ktrain) (1.1.4)\n",
            "Requirement already satisfied: prompt-toolkit<2.0.0,>=1.0.4 in /usr/local/lib/python3.6/dist-packages (from ipython->ktrain) (1.0.18)\n",
            "Requirement already satisfied: setuptools>=18.5 in /usr/local/lib/python3.6/dist-packages (from ipython->ktrain) (50.3.2)\n",
            "Requirement already satisfied: traitlets>=4.2 in /usr/local/lib/python3.6/dist-packages (from ipython->ktrain) (4.3.3)\n",
            "Requirement already satisfied: pickleshare in /usr/local/lib/python3.6/dist-packages (from ipython->ktrain) (0.7.5)\n",
            "Requirement already satisfied: pexpect; sys_platform != \"win32\" in /usr/local/lib/python3.6/dist-packages (from ipython->ktrain) (4.8.0)\n",
            "Requirement already satisfied: simplegeneric>0.8 in /usr/local/lib/python3.6/dist-packages (from ipython->ktrain) (0.8.1)\n",
            "Requirement already satisfied: decorator in /usr/local/lib/python3.6/dist-packages (from ipython->ktrain) (4.4.2)\n",
            "Requirement already satisfied: pygments in /usr/local/lib/python3.6/dist-packages (from ipython->ktrain) (2.6.1)\n",
            "Requirement already satisfied: filelock in /usr/local/lib/python3.6/dist-packages (from transformers>=3.1.0->ktrain) (3.0.12)\n",
            "Requirement already satisfied: tqdm>=4.27 in /usr/local/lib/python3.6/dist-packages (from transformers>=3.1.0->ktrain) (4.41.1)\n",
            "Requirement already satisfied: sentencepiece==0.1.91 in /usr/local/lib/python3.6/dist-packages (from transformers>=3.1.0->ktrain) (0.1.91)\n",
            "Requirement already satisfied: numpy in /usr/local/lib/python3.6/dist-packages (from transformers>=3.1.0->ktrain) (1.18.5)\n",
            "Requirement already satisfied: protobuf in /usr/local/lib/python3.6/dist-packages (from transformers>=3.1.0->ktrain) (3.12.4)\n",
            "Requirement already satisfied: tokenizers==0.9.3 in /usr/local/lib/python3.6/dist-packages (from transformers>=3.1.0->ktrain) (0.9.3)\n",
            "Requirement already satisfied: sacremoses in /usr/local/lib/python3.6/dist-packages (from transformers>=3.1.0->ktrain) (0.0.43)\n",
            "Requirement already satisfied: regex!=2019.12.17 in /usr/local/lib/python3.6/dist-packages (from transformers>=3.1.0->ktrain) (2019.12.20)\n",
            "Requirement already satisfied: dataclasses; python_version < \"3.7\" in /usr/local/lib/python3.6/dist-packages (from transformers>=3.1.0->ktrain) (0.7)\n",
            "Requirement already satisfied: Keras>=2.2.4 in /usr/local/lib/python3.6/dist-packages (from seqeval==0.0.19->ktrain) (2.4.3)\n",
            "Requirement already satisfied: keras-transformer>=0.38.0 in /usr/local/lib/python3.6/dist-packages (from keras-bert>=0.86.0->ktrain) (0.38.0)\n",
            "Requirement already satisfied: scipy>=0.17.0 in /usr/local/lib/python3.6/dist-packages (from scikit-learn>=0.21.3->ktrain) (1.4.1)\n",
            "Requirement already satisfied: pyparsing!=2.0.4,!=2.1.2,!=2.1.6,>=2.0.1 in /usr/local/lib/python3.6/dist-packages (from matplotlib>=3.0.0->ktrain) (2.4.7)\n",
            "Requirement already satisfied: python-dateutil>=2.1 in /usr/local/lib/python3.6/dist-packages (from matplotlib>=3.0.0->ktrain) (2.8.1)\n",
            "Requirement already satisfied: kiwisolver>=1.0.1 in /usr/local/lib/python3.6/dist-packages (from matplotlib>=3.0.0->ktrain) (1.3.1)\n",
            "Requirement already satisfied: cycler>=0.10 in /usr/local/lib/python3.6/dist-packages (from matplotlib>=3.0.0->ktrain) (0.10.0)\n",
            "Requirement already satisfied: six in /usr/local/lib/python3.6/dist-packages (from packaging->ktrain) (1.15.0)\n",
            "Requirement already satisfied: tornado>=5.1 in /usr/local/lib/python3.6/dist-packages (from bokeh->ktrain) (5.1.1)\n",
            "Requirement already satisfied: PyYAML>=3.10 in /usr/local/lib/python3.6/dist-packages (from bokeh->ktrain) (3.13)\n",
            "Requirement already satisfied: pillow>=4.0 in /usr/local/lib/python3.6/dist-packages (from bokeh->ktrain) (7.0.0)\n",
            "Requirement already satisfied: typing-extensions>=3.7.4 in /usr/local/lib/python3.6/dist-packages (from bokeh->ktrain) (3.7.4.3)\n",
            "Requirement already satisfied: Jinja2>=2.7 in /usr/local/lib/python3.6/dist-packages (from bokeh->ktrain) (2.11.2)\n",
            "Requirement already satisfied: chardet<4,>=3.0.2 in /usr/local/lib/python3.6/dist-packages (from requests->ktrain) (3.0.4)\n",
            "Requirement already satisfied: certifi>=2017.4.17 in /usr/local/lib/python3.6/dist-packages (from requests->ktrain) (2020.6.20)\n",
            "Requirement already satisfied: urllib3!=1.25.0,!=1.25.1,<1.26,>=1.21.1 in /usr/local/lib/python3.6/dist-packages (from requests->ktrain) (1.24.3)\n",
            "Requirement already satisfied: idna<3,>=2.5 in /usr/local/lib/python3.6/dist-packages (from requests->ktrain) (2.10)\n",
            "Requirement already satisfied: pytz>=2017.2 in /usr/local/lib/python3.6/dist-packages (from pandas>=1.0.1->ktrain) (2018.9)\n",
            "Requirement already satisfied: wcwidth in /usr/local/lib/python3.6/dist-packages (from prompt-toolkit<2.0.0,>=1.0.4->ipython->ktrain) (0.2.5)\n",
            "Requirement already satisfied: ipython-genutils in /usr/local/lib/python3.6/dist-packages (from traitlets>=4.2->ipython->ktrain) (0.2.0)\n",
            "Requirement already satisfied: ptyprocess>=0.5 in /usr/local/lib/python3.6/dist-packages (from pexpect; sys_platform != \"win32\"->ipython->ktrain) (0.6.0)\n",
            "Requirement already satisfied: click in /usr/local/lib/python3.6/dist-packages (from sacremoses->transformers>=3.1.0->ktrain) (7.1.2)\n",
            "Requirement already satisfied: h5py in /usr/local/lib/python3.6/dist-packages (from Keras>=2.2.4->seqeval==0.0.19->ktrain) (2.10.0)\n",
            "Requirement already satisfied: keras-multi-head>=0.27.0 in /usr/local/lib/python3.6/dist-packages (from keras-transformer>=0.38.0->keras-bert>=0.86.0->ktrain) (0.27.0)\n",
            "Requirement already satisfied: keras-position-wise-feed-forward>=0.6.0 in /usr/local/lib/python3.6/dist-packages (from keras-transformer>=0.38.0->keras-bert>=0.86.0->ktrain) (0.6.0)\n",
            "Requirement already satisfied: keras-pos-embd>=0.11.0 in /usr/local/lib/python3.6/dist-packages (from keras-transformer>=0.38.0->keras-bert>=0.86.0->ktrain) (0.11.0)\n",
            "Requirement already satisfied: keras-embed-sim>=0.8.0 in /usr/local/lib/python3.6/dist-packages (from keras-transformer>=0.38.0->keras-bert>=0.86.0->ktrain) (0.8.0)\n",
            "Requirement already satisfied: keras-layer-normalization>=0.14.0 in /usr/local/lib/python3.6/dist-packages (from keras-transformer>=0.38.0->keras-bert>=0.86.0->ktrain) (0.14.0)\n",
            "Requirement already satisfied: MarkupSafe>=0.23 in /usr/local/lib/python3.6/dist-packages (from Jinja2>=2.7->bokeh->ktrain) (1.1.1)\n",
            "Requirement already satisfied: keras-self-attention==0.46.0 in /usr/local/lib/python3.6/dist-packages (from keras-multi-head>=0.27.0->keras-transformer>=0.38.0->keras-bert>=0.86.0->ktrain) (0.46.0)\n"
          ],
          "name": "stdout"
        }
      ]
    },
    {
      "cell_type": "code",
      "metadata": {
        "id": "wQfmuVzP0MEl"
      },
      "source": [
        "# 1 get data into dataframe\n",
        "df = read_into_pandas()\n",
        "(lb_category, df) = replace_column_with_label_representation(df, 'category', 'category_int')\n",
        "df_train, df_test = train_test_split(df, test_size=0.2)    \n",
        "\n",
        "train_X = df_train['text'].values\n",
        "train_y = df_train['category_int'].values\n",
        "test_X = df_test['text'].values\n",
        "test_y = df_test['category_int'].values"
      ],
      "execution_count": 18,
      "outputs": []
    },
    {
      "cell_type": "code",
      "metadata": {
        "id": "7PjsNdi560us"
      },
      "source": [
        "# 2 (distil)bert version\n",
        "model_name = 'distilbert-base-uncased'\n",
        "class_names = lb_category.classes_\n",
        "trans = text.Transformer(model_name, maxlen=512, class_names=class_names)"
      ],
      "execution_count": 19,
      "outputs": []
    },
    {
      "cell_type": "code",
      "metadata": {
        "id": "EsGTJfHw6tuK",
        "outputId": "d1e88b87-b684-4431-8ebb-afeb62df108c",
        "colab": {
          "base_uri": "https://localhost:8080/",
          "height": 1000
        }
      },
      "source": [
        "# 3 train\n",
        "train_data = trans.preprocess_train(train_X, train_y)\n",
        "test_data = trans.preprocess_test(test_X, test_y)\n",
        "model = trans.get_classifier()\n",
        "learner = ktrain.get_learner(model, train_data, val_data=test_data, batch_size=16, use_multiprocessing=True)\n",
        "learner.lr_find(show_plot=True, max_epochs=1)\n",
        "best_lr = 0.0001\n",
        "learner.fit_onecycle(best_lr, epochs=1)\n",
        "cm = learner.validate(class_names=trans.get_classes())\n",
        "print(cm)\n",
        "tl = learner.view_top_losses(n=5, preproc=trans)\n",
        "print(tl)\n"
      ],
      "execution_count": 21,
      "outputs": [
        {
          "output_type": "stream",
          "text": [
            "preprocessing train...\n",
            "language: en\n",
            "train sequence lengths:\n",
            "\tmean : 958\n",
            "\t95percentile : 2044\n",
            "\t99percentile : 4121\n"
          ],
          "name": "stdout"
        },
        {
          "output_type": "display_data",
          "data": {
            "text/html": [
              ""
            ],
            "text/plain": [
              "<IPython.core.display.HTML object>"
            ]
          },
          "metadata": {
            "tags": []
          }
        },
        {
          "output_type": "stream",
          "text": [
            "Is Multi-Label? False\n",
            "preprocessing test...\n",
            "language: en\n",
            "test sequence lengths:\n",
            "\tmean : 924\n",
            "\t95percentile : 2274\n",
            "\t99percentile : 2743\n"
          ],
          "name": "stdout"
        },
        {
          "output_type": "display_data",
          "data": {
            "text/html": [
              ""
            ],
            "text/plain": [
              "<IPython.core.display.HTML object>"
            ]
          },
          "metadata": {
            "tags": []
          }
        },
        {
          "output_type": "stream",
          "text": [
            "simulating training for different learning rates... this may take a few moments...\n",
            "12/12 [==============================] - 572s 48s/step - loss: 66.8935 - accuracy: 0.2500\n",
            "\n",
            "\n",
            "done.\n",
            "Visually inspect loss plot and select learning rate associated with falling loss\n"
          ],
          "name": "stdout"
        },
        {
          "output_type": "display_data",
          "data": {
            "image/png": "[encoded data removed]",
            "text/plain": [
              "<Figure size 432x288 with 1 Axes>"
            ]
          },
          "metadata": {
            "tags": [],
            "needs_background": "light"
          }
        },
        {
          "output_type": "stream",
          "text": [
            "\n",
            "\n",
            "begin training using onecycle policy with max lr of 0.0001...\n",
            "13/13 [==============================] - 659s 51s/step - loss: 1.5205 - accuracy: 0.4200 - val_loss: 1.3356 - val_accuracy: 0.6200\n",
            "               precision    recall  f1-score   support\n",
            "\n",
            "ENTERTAINMENT       0.33      1.00      0.50         2\n",
            "INTERNATIONAL       0.70      0.58      0.64        12\n",
            "     NATIONAL       0.47      0.70      0.56        10\n",
            "     POLITICS       0.80      0.57      0.67        14\n",
            "       SPORTS       0.78      0.58      0.67        12\n",
            "\n",
            "     accuracy                           0.62        50\n",
            "    macro avg       0.62      0.69      0.61        50\n",
            " weighted avg       0.69      0.62      0.63        50\n",
            "\n",
            "[[2 0 0 0 0]\n",
            " [3 7 1 0 1]\n",
            " [1 0 7 1 1]\n",
            " [0 0 6 8 0]\n",
            " [0 3 1 1 7]]\n",
            "----------\n",
            "id:45 | loss:2.09 | true:INTERNATIONAL | pred:ENTERTAINMENT)\n",
            "\n",
            "----------\n",
            "id:14 | loss:2.01 | true:INTERNATIONAL | pred:ENTERTAINMENT)\n",
            "\n",
            "----------\n",
            "id:25 | loss:1.97 | true:INTERNATIONAL | pred:NATIONAL)\n",
            "\n",
            "----------\n",
            "id:11 | loss:1.88 | true:SPORTS | pred:NATIONAL)\n",
            "\n",
            "----------\n",
            "id:22 | loss:1.87 | true:SPORTS | pred:POLITICS)\n",
            "\n",
            "None\n"
          ],
          "name": "stdout"
        }
      ]
    },
    {
      "cell_type": "code",
      "metadata": {
        "id": "i_nMOwed6qcf",
        "outputId": "9b9f984f-bcf5-405c-f763-0fdb54573a1a",
        "colab": {
          "base_uri": "https://localhost:8080/"
        }
      },
      "source": [
        "\n",
        "# 4 test\n",
        "predictor = ktrain.get_predictor(learner.model, preproc=trans)\n",
        "test_string = 'The Chiefs beat the Ravens last night 32-25.'\n",
        "prediction = predictor.predict(test_string)\n",
        "print(prediction)\n",
        "#expl = predictor.explain()\n",
        "#print(expl)\n",
        "predictor.save('models/ktrain1')"
      ],
      "execution_count": 23,
      "outputs": [
        {
          "output_type": "stream",
          "text": [
            "NATIONAL\n"
          ],
          "name": "stdout"
        }
      ]
    }
  ]
}